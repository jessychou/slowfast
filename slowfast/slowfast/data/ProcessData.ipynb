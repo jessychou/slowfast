{
 "cells": [
  {
   "cell_type": "code",
   "execution_count": 1,
   "metadata": {},
   "outputs": [],
   "source": [
    "import pandas as pd"
   ]
  },
  {
   "cell_type": "code",
   "execution_count": 5,
   "metadata": {},
   "outputs": [],
   "source": [
    "pd.set_option('display.max_rows', 500)\n",
    "pd.set_option('display.max_columns', 500)\n",
    "pd.set_option('display.width', 1000)\n",
    "pd.set_option('display.expand_frame_repr', False)"
   ]
  },
  {
   "cell_type": "code",
   "execution_count": 3,
   "metadata": {},
   "outputs": [
    {
     "name": "stdout",
     "output_type": "stream",
     "text": [
      "/Users/jessy/slowfast/slowfast\r\n"
     ]
    }
   ],
   "source": [
    "!pwd"
   ]
  },
  {
   "cell_type": "code",
   "execution_count": 83,
   "metadata": {},
   "outputs": [],
   "source": [
    "def get_selected_frame_lists(infile_path, outfile_path):\n",
    "    train = pd.read_csv(infile_path)\n",
    "    print(f\"train.shape: {train.shape}\")\n",
    "    df_train = pd.DataFrame(train.iloc[:,0].str.split(' ').tolist(),\n",
    "                                 columns = ['original_vido_id','video_id', 'frame_id', 'path', 'labels'])\n",
    "    targeted_vido = ['_-Z6wFjXtGQ', '_7oWZq_s_Sk', '_145Aa_xkuE', '_a9SWtcaNj8', '_Ca3gOdOHxU']\n",
    "    df_target = df_train[df_train.original_vido_id.isin(targeted_vido)]\n",
    "    print(f\"df_target.shape: {df_target.shape}\")\n",
    "    df_target['original_vido_id video_id frame_id path labels'] = df_target.apply(lambda x: ' '.join(x.astype(str)),axis=1)\n",
    "    df_target.drop(columns=['original_vido_id', 'video_id', 'path', 'labels', 'frame_id'], inplace=True)\n",
    "    print(f\"final df_target.shape: {df_target.shape}\")\n",
    "    df_target.to_csv(outfile_path, index=False, header=None)\n"
   ]
  },
  {
   "cell_type": "code",
   "execution_count": 86,
   "metadata": {},
   "outputs": [],
   "source": [
    "def get_selected_annotation(infile, outfile):\n",
    "    train = pd.read_csv(infile, header=None)\n",
    "    print(f\"train.shape: {train.shape}\")\n",
    "    targeted_vido = ['_-Z6wFjXtGQ', '_7oWZq_s_Sk', '_145Aa_xkuE', '_a9SWtcaNj8', '_Ca3gOdOHxU']\n",
    "    df_target = train[train[0].isin(targeted_vido)]\n",
    "    print(f\"df_target.shape: {df_target.shape}\")\n",
    "    df_target.to_csv(outfile, header=None, index=False)"
   ]
  },
  {
   "cell_type": "code",
   "execution_count": 85,
   "metadata": {},
   "outputs": [
    {
     "name": "stdout",
     "output_type": "stream",
     "text": [
      "train.shape: (6352104, 1)\n",
      "df_target.shape: (108120, 5)\n"
     ]
    },
    {
     "name": "stderr",
     "output_type": "stream",
     "text": [
      "<ipython-input-83-f7d894879bad>:9: SettingWithCopyWarning: \n",
      "A value is trying to be set on a copy of a slice from a DataFrame.\n",
      "Try using .loc[row_indexer,col_indexer] = value instead\n",
      "\n",
      "See the caveats in the documentation: https://pandas.pydata.org/pandas-docs/stable/user_guide/indexing.html#returning-a-view-versus-a-copy\n",
      "  df_target['original_vido_id video_id frame_id path labels'] = df_target.apply(lambda x: ' '.join(x.astype(str)),axis=1)\n",
      "/Users/jessy/opt/anaconda3/envs/slowfast/lib/python3.9/site-packages/pandas-1.2.0rc0-py3.9-macosx-10.9-x86_64.egg/pandas/core/frame.py:4305: SettingWithCopyWarning: \n",
      "A value is trying to be set on a copy of a slice from a DataFrame\n",
      "\n",
      "See the caveats in the documentation: https://pandas.pydata.org/pandas-docs/stable/user_guide/indexing.html#returning-a-view-versus-a-copy\n",
      "  return super().drop(\n"
     ]
    }
   ],
   "source": [
    "get_selected_frame_lists('data/ava/frame_lists/train.csv', 'data/ava/frame_lists_new/train.csv')"
   ]
  },
  {
   "cell_type": "code",
   "execution_count": 87,
   "metadata": {},
   "outputs": [
    {
     "name": "stdout",
     "output_type": "stream",
     "text": [
      "train.shape: (1729931, 1)\n",
      "df_target.shape: (27030, 5)\n"
     ]
    },
    {
     "name": "stderr",
     "output_type": "stream",
     "text": [
      "<ipython-input-83-f7d894879bad>:9: SettingWithCopyWarning: \n",
      "A value is trying to be set on a copy of a slice from a DataFrame.\n",
      "Try using .loc[row_indexer,col_indexer] = value instead\n",
      "\n",
      "See the caveats in the documentation: https://pandas.pydata.org/pandas-docs/stable/user_guide/indexing.html#returning-a-view-versus-a-copy\n",
      "  df_target['original_vido_id video_id frame_id path labels'] = df_target.apply(lambda x: ' '.join(x.astype(str)),axis=1)\n"
     ]
    }
   ],
   "source": [
    "get_selected_frame_lists('data/ava/frame_lists/val.csv', 'data/ava/frame_lists_new/val.csv')"
   ]
  },
  {
   "cell_type": "code",
   "execution_count": 91,
   "metadata": {},
   "outputs": [
    {
     "name": "stdout",
     "output_type": "stream",
     "text": [
      "train.shape: (6352104, 1)\n",
      "df_target.shape: (108120, 5)\n"
     ]
    },
    {
     "name": "stderr",
     "output_type": "stream",
     "text": [
      "<ipython-input-83-f7d894879bad>:9: SettingWithCopyWarning: \n",
      "A value is trying to be set on a copy of a slice from a DataFrame.\n",
      "Try using .loc[row_indexer,col_indexer] = value instead\n",
      "\n",
      "See the caveats in the documentation: https://pandas.pydata.org/pandas-docs/stable/user_guide/indexing.html#returning-a-view-versus-a-copy\n",
      "  df_target['original_vido_id video_id frame_id path labels'] = df_target.apply(lambda x: ' '.join(x.astype(str)),axis=1)\n",
      "/Users/jessy/opt/anaconda3/envs/slowfast/lib/python3.9/site-packages/pandas-1.2.0rc0-py3.9-macosx-10.9-x86_64.egg/pandas/core/frame.py:4305: SettingWithCopyWarning: \n",
      "A value is trying to be set on a copy of a slice from a DataFrame\n",
      "\n",
      "See the caveats in the documentation: https://pandas.pydata.org/pandas-docs/stable/user_guide/indexing.html#returning-a-view-versus-a-copy\n",
      "  return super().drop(\n"
     ]
    }
   ],
   "source": [
    "get_selected_frame_lists('data/ava/frame_lists/train.csv', 'data/ava/frame_lists_new/train.csv')"
   ]
  },
  {
   "cell_type": "code",
   "execution_count": 88,
   "metadata": {},
   "outputs": [
    {
     "name": "stdout",
     "output_type": "stream",
     "text": [
      "train.shape: (837318, 8)\n",
      "df_target.shape: (17697, 8)\n"
     ]
    }
   ],
   "source": [
    "get_selected_annotation('data/ava/annotations/ava_train_v2.1.csv', 'data/ava/annotations_new/ava_train_v2.1.csv')"
   ]
  },
  {
   "cell_type": "code",
   "execution_count": 89,
   "metadata": {},
   "outputs": [
    {
     "name": "stdout",
     "output_type": "stream",
     "text": [
      "train.shape: (237140, 8)\n",
      "df_target.shape: (2755, 8)\n"
     ]
    }
   ],
   "source": [
    "get_selected_annotation('data/ava/annotations/ava_val_v2.1.csv', 'data/ava/annotations_new/ava_val_v2.1.csv')"
   ]
  },
  {
   "cell_type": "code",
   "execution_count": 92,
   "metadata": {},
   "outputs": [
    {
     "name": "stdout",
     "output_type": "stream",
     "text": [
      "train.shape: (155780, 8)\n",
      "df_target.shape: (2239, 8)\n"
     ]
    }
   ],
   "source": [
    "get_selected_annotation('data/ava/annotations/ava_val_predicted_boxes.csv', 'data/ava/annotations_new/ava_val_predicted_boxes.csv')"
   ]
  },
  {
   "cell_type": "code",
   "execution_count": 93,
   "metadata": {},
   "outputs": [
    {
     "name": "stdout",
     "output_type": "stream",
     "text": [
      "train.shape: (1033086, 8)\n",
      "df_target.shape: (21109, 8)\n"
     ]
    }
   ],
   "source": [
    "get_selected_annotation('data/ava/annotations/ava_train_predicted_boxes.csv', 'data/ava/annotations_new/ava_train_predicted_boxes.csv')"
   ]
  },
  {
   "cell_type": "code",
   "execution_count": 6,
   "metadata": {},
   "outputs": [
    {
     "name": "stdout",
     "output_type": "stream",
     "text": [
      "(108120, 1)\n"
     ]
    },
    {
     "data": {
      "text/html": [
       "<div>\n",
       "<style scoped>\n",
       "    .dataframe tbody tr th:only-of-type {\n",
       "        vertical-align: middle;\n",
       "    }\n",
       "\n",
       "    .dataframe tbody tr th {\n",
       "        vertical-align: top;\n",
       "    }\n",
       "\n",
       "    .dataframe thead th {\n",
       "        text-align: right;\n",
       "    }\n",
       "</style>\n",
       "<table border=\"1\" class=\"dataframe\">\n",
       "  <thead>\n",
       "    <tr style=\"text-align: right;\">\n",
       "      <th></th>\n",
       "      <th>0</th>\n",
       "    </tr>\n",
       "  </thead>\n",
       "  <tbody>\n",
       "    <tr>\n",
       "      <th>0</th>\n",
       "      <td>_-Z6wFjXtGQ 134 0 _-Z6wFjXtGQ/_-Z6wFjXtGQ_0000...</td>\n",
       "    </tr>\n",
       "    <tr>\n",
       "      <th>1</th>\n",
       "      <td>_-Z6wFjXtGQ 134 1 _-Z6wFjXtGQ/_-Z6wFjXtGQ_0000...</td>\n",
       "    </tr>\n",
       "    <tr>\n",
       "      <th>2</th>\n",
       "      <td>_-Z6wFjXtGQ 134 2 _-Z6wFjXtGQ/_-Z6wFjXtGQ_0000...</td>\n",
       "    </tr>\n",
       "    <tr>\n",
       "      <th>3</th>\n",
       "      <td>_-Z6wFjXtGQ 134 3 _-Z6wFjXtGQ/_-Z6wFjXtGQ_0000...</td>\n",
       "    </tr>\n",
       "    <tr>\n",
       "      <th>4</th>\n",
       "      <td>_-Z6wFjXtGQ 134 4 _-Z6wFjXtGQ/_-Z6wFjXtGQ_0000...</td>\n",
       "    </tr>\n",
       "  </tbody>\n",
       "</table>\n",
       "</div>"
      ],
      "text/plain": [
       "                                                   0\n",
       "0  _-Z6wFjXtGQ 134 0 _-Z6wFjXtGQ/_-Z6wFjXtGQ_0000...\n",
       "1  _-Z6wFjXtGQ 134 1 _-Z6wFjXtGQ/_-Z6wFjXtGQ_0000...\n",
       "2  _-Z6wFjXtGQ 134 2 _-Z6wFjXtGQ/_-Z6wFjXtGQ_0000...\n",
       "3  _-Z6wFjXtGQ 134 3 _-Z6wFjXtGQ/_-Z6wFjXtGQ_0000...\n",
       "4  _-Z6wFjXtGQ 134 4 _-Z6wFjXtGQ/_-Z6wFjXtGQ_0000..."
      ]
     },
     "execution_count": 6,
     "metadata": {},
     "output_type": "execute_result"
    }
   ],
   "source": [
    "file_path='/Users/jessy/slowfast/slowfast/data/ava/frame_lists_new/train.csv'\n",
    "train = pd.read_csv(file_path, header=None)\n",
    "print(train.shape)\n",
    "train.head()"
   ]
  },
  {
   "cell_type": "code",
   "execution_count": 7,
   "metadata": {},
   "outputs": [
    {
     "data": {
      "text/plain": [
       "0    _-Z6wFjXtGQ 134 0 _-Z6wFjXtGQ/_-Z6wFjXtGQ_0000...\n",
       "Name: 0, dtype: object"
      ]
     },
     "execution_count": 7,
     "metadata": {},
     "output_type": "execute_result"
    }
   ],
   "source": [
    "train.iloc[0,:]"
   ]
  },
  {
   "cell_type": "code",
   "execution_count": 94,
   "metadata": {},
   "outputs": [
    {
     "name": "stdout",
     "output_type": "stream",
     "text": [
      "(17697, 8)\n"
     ]
    },
    {
     "data": {
      "text/html": [
       "<div>\n",
       "<style scoped>\n",
       "    .dataframe tbody tr th:only-of-type {\n",
       "        vertical-align: middle;\n",
       "    }\n",
       "\n",
       "    .dataframe tbody tr th {\n",
       "        vertical-align: top;\n",
       "    }\n",
       "\n",
       "    .dataframe thead th {\n",
       "        text-align: right;\n",
       "    }\n",
       "</style>\n",
       "<table border=\"1\" class=\"dataframe\">\n",
       "  <thead>\n",
       "    <tr style=\"text-align: right;\">\n",
       "      <th></th>\n",
       "      <th>0</th>\n",
       "      <th>1</th>\n",
       "      <th>2</th>\n",
       "      <th>3</th>\n",
       "      <th>4</th>\n",
       "      <th>5</th>\n",
       "      <th>6</th>\n",
       "      <th>7</th>\n",
       "    </tr>\n",
       "  </thead>\n",
       "  <tbody>\n",
       "    <tr>\n",
       "      <th>0</th>\n",
       "      <td>_-Z6wFjXtGQ</td>\n",
       "      <td>902</td>\n",
       "      <td>0.063</td>\n",
       "      <td>0.049</td>\n",
       "      <td>0.524</td>\n",
       "      <td>0.996</td>\n",
       "      <td>12</td>\n",
       "      <td>0</td>\n",
       "    </tr>\n",
       "    <tr>\n",
       "      <th>1</th>\n",
       "      <td>_-Z6wFjXtGQ</td>\n",
       "      <td>902</td>\n",
       "      <td>0.063</td>\n",
       "      <td>0.049</td>\n",
       "      <td>0.524</td>\n",
       "      <td>0.996</td>\n",
       "      <td>74</td>\n",
       "      <td>0</td>\n",
       "    </tr>\n",
       "    <tr>\n",
       "      <th>2</th>\n",
       "      <td>_-Z6wFjXtGQ</td>\n",
       "      <td>902</td>\n",
       "      <td>0.063</td>\n",
       "      <td>0.049</td>\n",
       "      <td>0.524</td>\n",
       "      <td>0.996</td>\n",
       "      <td>80</td>\n",
       "      <td>0</td>\n",
       "    </tr>\n",
       "    <tr>\n",
       "      <th>3</th>\n",
       "      <td>_-Z6wFjXtGQ</td>\n",
       "      <td>902</td>\n",
       "      <td>0.392</td>\n",
       "      <td>0.253</td>\n",
       "      <td>0.916</td>\n",
       "      <td>0.994</td>\n",
       "      <td>12</td>\n",
       "      <td>1</td>\n",
       "    </tr>\n",
       "    <tr>\n",
       "      <th>4</th>\n",
       "      <td>_-Z6wFjXtGQ</td>\n",
       "      <td>902</td>\n",
       "      <td>0.392</td>\n",
       "      <td>0.253</td>\n",
       "      <td>0.916</td>\n",
       "      <td>0.994</td>\n",
       "      <td>17</td>\n",
       "      <td>1</td>\n",
       "    </tr>\n",
       "  </tbody>\n",
       "</table>\n",
       "</div>"
      ],
      "text/plain": [
       "             0    1      2      3      4      5   6  7\n",
       "0  _-Z6wFjXtGQ  902  0.063  0.049  0.524  0.996  12  0\n",
       "1  _-Z6wFjXtGQ  902  0.063  0.049  0.524  0.996  74  0\n",
       "2  _-Z6wFjXtGQ  902  0.063  0.049  0.524  0.996  80  0\n",
       "3  _-Z6wFjXtGQ  902  0.392  0.253  0.916  0.994  12  1\n",
       "4  _-Z6wFjXtGQ  902  0.392  0.253  0.916  0.994  17  1"
      ]
     },
     "execution_count": 94,
     "metadata": {},
     "output_type": "execute_result"
    }
   ],
   "source": [
    "file_path='data/ava/annotations_new/ava_train_v2.1.csv'\n",
    "train = pd.read_csv(file_path, header=None)\n",
    "print(train.shape)\n",
    "train.head()"
   ]
  },
  {
   "cell_type": "code",
   "execution_count": 55,
   "metadata": {},
   "outputs": [
    {
     "data": {
      "text/plain": [
       "Int64Index([0, 1, 2, 3, 4, 5, 6, 7], dtype='int64')"
      ]
     },
     "execution_count": 55,
     "metadata": {},
     "output_type": "execute_result"
    }
   ],
   "source": [
    "train.columns"
   ]
  },
  {
   "cell_type": "code",
   "execution_count": 56,
   "metadata": {},
   "outputs": [
    {
     "name": "stdout",
     "output_type": "stream",
     "text": [
      "(17697, 8)\n"
     ]
    },
    {
     "data": {
      "text/html": [
       "<div>\n",
       "<style scoped>\n",
       "    .dataframe tbody tr th:only-of-type {\n",
       "        vertical-align: middle;\n",
       "    }\n",
       "\n",
       "    .dataframe tbody tr th {\n",
       "        vertical-align: top;\n",
       "    }\n",
       "\n",
       "    .dataframe thead th {\n",
       "        text-align: right;\n",
       "    }\n",
       "</style>\n",
       "<table border=\"1\" class=\"dataframe\">\n",
       "  <thead>\n",
       "    <tr style=\"text-align: right;\">\n",
       "      <th></th>\n",
       "      <th>0</th>\n",
       "      <th>1</th>\n",
       "      <th>2</th>\n",
       "      <th>3</th>\n",
       "      <th>4</th>\n",
       "      <th>5</th>\n",
       "      <th>6</th>\n",
       "      <th>7</th>\n",
       "    </tr>\n",
       "  </thead>\n",
       "  <tbody>\n",
       "    <tr>\n",
       "      <th>471309</th>\n",
       "      <td>_-Z6wFjXtGQ</td>\n",
       "      <td>902</td>\n",
       "      <td>0.063</td>\n",
       "      <td>0.049</td>\n",
       "      <td>0.524</td>\n",
       "      <td>0.996</td>\n",
       "      <td>12</td>\n",
       "      <td>0</td>\n",
       "    </tr>\n",
       "    <tr>\n",
       "      <th>471310</th>\n",
       "      <td>_-Z6wFjXtGQ</td>\n",
       "      <td>902</td>\n",
       "      <td>0.063</td>\n",
       "      <td>0.049</td>\n",
       "      <td>0.524</td>\n",
       "      <td>0.996</td>\n",
       "      <td>74</td>\n",
       "      <td>0</td>\n",
       "    </tr>\n",
       "    <tr>\n",
       "      <th>471311</th>\n",
       "      <td>_-Z6wFjXtGQ</td>\n",
       "      <td>902</td>\n",
       "      <td>0.063</td>\n",
       "      <td>0.049</td>\n",
       "      <td>0.524</td>\n",
       "      <td>0.996</td>\n",
       "      <td>80</td>\n",
       "      <td>0</td>\n",
       "    </tr>\n",
       "    <tr>\n",
       "      <th>471312</th>\n",
       "      <td>_-Z6wFjXtGQ</td>\n",
       "      <td>902</td>\n",
       "      <td>0.392</td>\n",
       "      <td>0.253</td>\n",
       "      <td>0.916</td>\n",
       "      <td>0.994</td>\n",
       "      <td>12</td>\n",
       "      <td>1</td>\n",
       "    </tr>\n",
       "    <tr>\n",
       "      <th>471313</th>\n",
       "      <td>_-Z6wFjXtGQ</td>\n",
       "      <td>902</td>\n",
       "      <td>0.392</td>\n",
       "      <td>0.253</td>\n",
       "      <td>0.916</td>\n",
       "      <td>0.994</td>\n",
       "      <td>17</td>\n",
       "      <td>1</td>\n",
       "    </tr>\n",
       "  </tbody>\n",
       "</table>\n",
       "</div>"
      ],
      "text/plain": [
       "                  0    1      2      3      4      5   6  7\n",
       "471309  _-Z6wFjXtGQ  902  0.063  0.049  0.524  0.996  12  0\n",
       "471310  _-Z6wFjXtGQ  902  0.063  0.049  0.524  0.996  74  0\n",
       "471311  _-Z6wFjXtGQ  902  0.063  0.049  0.524  0.996  80  0\n",
       "471312  _-Z6wFjXtGQ  902  0.392  0.253  0.916  0.994  12  1\n",
       "471313  _-Z6wFjXtGQ  902  0.392  0.253  0.916  0.994  17  1"
      ]
     },
     "execution_count": 56,
     "metadata": {},
     "output_type": "execute_result"
    }
   ],
   "source": [
    "targeted_vido = ['_-Z6wFjXtGQ', '_7oWZq_s_Sk', '_145Aa_xkuE', '_a9SWtcaNj8', '_Ca3gOdOHxU']\n",
    "df_target = train[train[0].isin(targeted_vido)]\n",
    "print(df_target.shape)\n",
    "df_target.head()"
   ]
  },
  {
   "cell_type": "code",
   "execution_count": 11,
   "metadata": {},
   "outputs": [
    {
     "name": "stderr",
     "output_type": "stream",
     "text": [
      "<ipython-input-11-f82e9fb48e88>:3: FutureWarning: Passing a negative integer is deprecated in version 1.0 and will not be supported in future version. Instead, use None to not limit the column width.\n",
      "  pd.set_option('max_colwidth', -1)\n"
     ]
    },
    {
     "data": {
      "text/html": [
       "<div>\n",
       "<style scoped>\n",
       "    .dataframe tbody tr th:only-of-type {\n",
       "        vertical-align: middle;\n",
       "    }\n",
       "\n",
       "    .dataframe tbody tr th {\n",
       "        vertical-align: top;\n",
       "    }\n",
       "\n",
       "    .dataframe thead th {\n",
       "        text-align: right;\n",
       "    }\n",
       "</style>\n",
       "<table border=\"1\" class=\"dataframe\">\n",
       "  <thead>\n",
       "    <tr style=\"text-align: right;\">\n",
       "      <th></th>\n",
       "      <th>original_vido_id video_id frame_id path labels</th>\n",
       "    </tr>\n",
       "  </thead>\n",
       "  <tbody>\n",
       "    <tr>\n",
       "      <th>0</th>\n",
       "      <td>-5KQ66BBWC4 0 0 -5KQ66BBWC4/-5KQ66BBWC4_000001.jpg \"\"</td>\n",
       "    </tr>\n",
       "    <tr>\n",
       "      <th>1</th>\n",
       "      <td>-5KQ66BBWC4 0 1 -5KQ66BBWC4/-5KQ66BBWC4_000002.jpg \"\"</td>\n",
       "    </tr>\n",
       "    <tr>\n",
       "      <th>2</th>\n",
       "      <td>-5KQ66BBWC4 0 2 -5KQ66BBWC4/-5KQ66BBWC4_000003.jpg \"\"</td>\n",
       "    </tr>\n",
       "    <tr>\n",
       "      <th>3</th>\n",
       "      <td>-5KQ66BBWC4 0 3 -5KQ66BBWC4/-5KQ66BBWC4_000004.jpg \"\"</td>\n",
       "    </tr>\n",
       "    <tr>\n",
       "      <th>4</th>\n",
       "      <td>-5KQ66BBWC4 0 4 -5KQ66BBWC4/-5KQ66BBWC4_000005.jpg \"\"</td>\n",
       "    </tr>\n",
       "  </tbody>\n",
       "</table>\n",
       "</div>"
      ],
      "text/plain": [
       "          original_vido_id video_id frame_id path labels\n",
       "0  -5KQ66BBWC4 0 0 -5KQ66BBWC4/-5KQ66BBWC4_000001.jpg \"\"\n",
       "1  -5KQ66BBWC4 0 1 -5KQ66BBWC4/-5KQ66BBWC4_000002.jpg \"\"\n",
       "2  -5KQ66BBWC4 0 2 -5KQ66BBWC4/-5KQ66BBWC4_000003.jpg \"\"\n",
       "3  -5KQ66BBWC4 0 3 -5KQ66BBWC4/-5KQ66BBWC4_000004.jpg \"\"\n",
       "4  -5KQ66BBWC4 0 4 -5KQ66BBWC4/-5KQ66BBWC4_000005.jpg \"\""
      ]
     },
     "execution_count": 11,
     "metadata": {},
     "output_type": "execute_result"
    }
   ],
   "source": [
    "pd.set_option('display.max_columns', None)  \n",
    "pd.set_option('display.expand_frame_repr', False)\n",
    "pd.set_option('max_colwidth', -1)\n",
    "train.head()"
   ]
  },
  {
   "cell_type": "code",
   "execution_count": 6,
   "metadata": {},
   "outputs": [
    {
     "data": {
      "text/plain": [
       "'-5KQ66BBWC4 0 0 -5KQ66BBWC4/-5KQ66BBWC4_000001.jpg \"\"'"
      ]
     },
     "execution_count": 6,
     "metadata": {},
     "output_type": "execute_result"
    }
   ],
   "source": [
    "rec=train.iloc[0,0]\n",
    "rec"
   ]
  },
  {
   "cell_type": "code",
   "execution_count": 15,
   "metadata": {},
   "outputs": [],
   "source": [
    "original_vido_id, video_id, frame_id, path, labels = rec.split(' ')"
   ]
  },
  {
   "cell_type": "code",
   "execution_count": 14,
   "metadata": {},
   "outputs": [
    {
     "data": {
      "text/plain": [
       "['-5KQ66BBWC4', '0', '0', '-5KQ66BBWC4/-5KQ66BBWC4_000001.jpg', '\"\"']"
      ]
     },
     "execution_count": 14,
     "metadata": {},
     "output_type": "execute_result"
    }
   ],
   "source": [
    "rec.split(' ')"
   ]
  },
  {
   "cell_type": "code",
   "execution_count": 46,
   "metadata": {},
   "outputs": [
    {
     "name": "stdout",
     "output_type": "stream",
     "text": [
      "(1729931, 5)\n"
     ]
    },
    {
     "data": {
      "text/html": [
       "<div>\n",
       "<style scoped>\n",
       "    .dataframe tbody tr th:only-of-type {\n",
       "        vertical-align: middle;\n",
       "    }\n",
       "\n",
       "    .dataframe tbody tr th {\n",
       "        vertical-align: top;\n",
       "    }\n",
       "\n",
       "    .dataframe thead th {\n",
       "        text-align: right;\n",
       "    }\n",
       "</style>\n",
       "<table border=\"1\" class=\"dataframe\">\n",
       "  <thead>\n",
       "    <tr style=\"text-align: right;\">\n",
       "      <th></th>\n",
       "      <th>original_vido_id</th>\n",
       "      <th>video_id</th>\n",
       "      <th>frame_id</th>\n",
       "      <th>path</th>\n",
       "      <th>labels</th>\n",
       "    </tr>\n",
       "  </thead>\n",
       "  <tbody>\n",
       "    <tr>\n",
       "      <th>0</th>\n",
       "      <td>1j20qq1JyX4</td>\n",
       "      <td>235</td>\n",
       "      <td>0</td>\n",
       "      <td>1j20qq1JyX4/1j20qq1JyX4_000001.jpg</td>\n",
       "      <td>\"\"</td>\n",
       "    </tr>\n",
       "    <tr>\n",
       "      <th>1</th>\n",
       "      <td>1j20qq1JyX4</td>\n",
       "      <td>235</td>\n",
       "      <td>1</td>\n",
       "      <td>1j20qq1JyX4/1j20qq1JyX4_000002.jpg</td>\n",
       "      <td>\"\"</td>\n",
       "    </tr>\n",
       "    <tr>\n",
       "      <th>2</th>\n",
       "      <td>1j20qq1JyX4</td>\n",
       "      <td>235</td>\n",
       "      <td>2</td>\n",
       "      <td>1j20qq1JyX4/1j20qq1JyX4_000003.jpg</td>\n",
       "      <td>\"\"</td>\n",
       "    </tr>\n",
       "    <tr>\n",
       "      <th>3</th>\n",
       "      <td>1j20qq1JyX4</td>\n",
       "      <td>235</td>\n",
       "      <td>3</td>\n",
       "      <td>1j20qq1JyX4/1j20qq1JyX4_000004.jpg</td>\n",
       "      <td>\"\"</td>\n",
       "    </tr>\n",
       "    <tr>\n",
       "      <th>4</th>\n",
       "      <td>1j20qq1JyX4</td>\n",
       "      <td>235</td>\n",
       "      <td>4</td>\n",
       "      <td>1j20qq1JyX4/1j20qq1JyX4_000005.jpg</td>\n",
       "      <td>\"\"</td>\n",
       "    </tr>\n",
       "  </tbody>\n",
       "</table>\n",
       "</div>"
      ],
      "text/plain": [
       "  original_vido_id video_id frame_id                                path labels\n",
       "0  1j20qq1JyX4      235      0        1j20qq1JyX4/1j20qq1JyX4_000001.jpg  \"\"   \n",
       "1  1j20qq1JyX4      235      1        1j20qq1JyX4/1j20qq1JyX4_000002.jpg  \"\"   \n",
       "2  1j20qq1JyX4      235      2        1j20qq1JyX4/1j20qq1JyX4_000003.jpg  \"\"   \n",
       "3  1j20qq1JyX4      235      3        1j20qq1JyX4/1j20qq1JyX4_000004.jpg  \"\"   \n",
       "4  1j20qq1JyX4      235      4        1j20qq1JyX4/1j20qq1JyX4_000005.jpg  \"\"   "
      ]
     },
     "execution_count": 46,
     "metadata": {},
     "output_type": "execute_result"
    }
   ],
   "source": [
    "df_train = pd.DataFrame(train.iloc[:,0].str.split(' ').tolist(),\n",
    "                                 columns = ['original_vido_id','video_id', 'frame_id', 'path', 'labels'])\n",
    "print(df_train.shape)\n",
    "df_train.head()"
   ]
  },
  {
   "cell_type": "code",
   "execution_count": 47,
   "metadata": {},
   "outputs": [
    {
     "name": "stdout",
     "output_type": "stream",
     "text": [
      "(27030, 5)\n"
     ]
    },
    {
     "data": {
      "text/html": [
       "<div>\n",
       "<style scoped>\n",
       "    .dataframe tbody tr th:only-of-type {\n",
       "        vertical-align: middle;\n",
       "    }\n",
       "\n",
       "    .dataframe tbody tr th {\n",
       "        vertical-align: top;\n",
       "    }\n",
       "\n",
       "    .dataframe thead th {\n",
       "        text-align: right;\n",
       "    }\n",
       "</style>\n",
       "<table border=\"1\" class=\"dataframe\">\n",
       "  <thead>\n",
       "    <tr style=\"text-align: right;\">\n",
       "      <th></th>\n",
       "      <th>original_vido_id</th>\n",
       "      <th>video_id</th>\n",
       "      <th>frame_id</th>\n",
       "      <th>path</th>\n",
       "      <th>labels</th>\n",
       "    </tr>\n",
       "  </thead>\n",
       "  <tbody>\n",
       "    <tr>\n",
       "      <th>946056</th>\n",
       "      <td>_7oWZq_s_Sk</td>\n",
       "      <td>270</td>\n",
       "      <td>0</td>\n",
       "      <td>_7oWZq_s_Sk/_7oWZq_s_Sk_000001.jpg</td>\n",
       "      <td>\"\"</td>\n",
       "    </tr>\n",
       "    <tr>\n",
       "      <th>946057</th>\n",
       "      <td>_7oWZq_s_Sk</td>\n",
       "      <td>270</td>\n",
       "      <td>1</td>\n",
       "      <td>_7oWZq_s_Sk/_7oWZq_s_Sk_000002.jpg</td>\n",
       "      <td>\"\"</td>\n",
       "    </tr>\n",
       "    <tr>\n",
       "      <th>946058</th>\n",
       "      <td>_7oWZq_s_Sk</td>\n",
       "      <td>270</td>\n",
       "      <td>2</td>\n",
       "      <td>_7oWZq_s_Sk/_7oWZq_s_Sk_000003.jpg</td>\n",
       "      <td>\"\"</td>\n",
       "    </tr>\n",
       "    <tr>\n",
       "      <th>946059</th>\n",
       "      <td>_7oWZq_s_Sk</td>\n",
       "      <td>270</td>\n",
       "      <td>3</td>\n",
       "      <td>_7oWZq_s_Sk/_7oWZq_s_Sk_000004.jpg</td>\n",
       "      <td>\"\"</td>\n",
       "    </tr>\n",
       "    <tr>\n",
       "      <th>946060</th>\n",
       "      <td>_7oWZq_s_Sk</td>\n",
       "      <td>270</td>\n",
       "      <td>4</td>\n",
       "      <td>_7oWZq_s_Sk/_7oWZq_s_Sk_000005.jpg</td>\n",
       "      <td>\"\"</td>\n",
       "    </tr>\n",
       "  </tbody>\n",
       "</table>\n",
       "</div>"
      ],
      "text/plain": [
       "       original_vido_id video_id frame_id                                path labels\n",
       "946056  _7oWZq_s_Sk      270      0        _7oWZq_s_Sk/_7oWZq_s_Sk_000001.jpg  \"\"   \n",
       "946057  _7oWZq_s_Sk      270      1        _7oWZq_s_Sk/_7oWZq_s_Sk_000002.jpg  \"\"   \n",
       "946058  _7oWZq_s_Sk      270      2        _7oWZq_s_Sk/_7oWZq_s_Sk_000003.jpg  \"\"   \n",
       "946059  _7oWZq_s_Sk      270      3        _7oWZq_s_Sk/_7oWZq_s_Sk_000004.jpg  \"\"   \n",
       "946060  _7oWZq_s_Sk      270      4        _7oWZq_s_Sk/_7oWZq_s_Sk_000005.jpg  \"\"   "
      ]
     },
     "execution_count": 47,
     "metadata": {},
     "output_type": "execute_result"
    }
   ],
   "source": [
    "targeted_vido = ['_-Z6wFjXtGQ', '_7oWZq_s_Sk', '_145Aa_xkuE', '_a9SWtcaNj8', '_Ca3gOdOHxU']\n",
    "df_target = df_train[df_train.original_vido_id.isin(targeted_vido)]\n",
    "print(df_target.shape)\n",
    "df_target.head()"
   ]
  },
  {
   "cell_type": "code",
   "execution_count": 36,
   "metadata": {},
   "outputs": [
    {
     "data": {
      "text/plain": [
       "array(['_-Z6wFjXtGQ', '_145Aa_xkuE', '_Ca3gOdOHxU', '_a9SWtcaNj8'],\n",
       "      dtype=object)"
      ]
     },
     "execution_count": 36,
     "metadata": {},
     "output_type": "execute_result"
    }
   ],
   "source": [
    "df_target.original_vido_id.unique()"
   ]
  },
  {
   "cell_type": "code",
   "execution_count": 37,
   "metadata": {},
   "outputs": [
    {
     "name": "stdout",
     "output_type": "stream",
     "text": [
      "(108120, 6)\n"
     ]
    },
    {
     "name": "stderr",
     "output_type": "stream",
     "text": [
      "<ipython-input-37-64bf4f296e99>:1: SettingWithCopyWarning: \n",
      "A value is trying to be set on a copy of a slice from a DataFrame.\n",
      "Try using .loc[row_indexer,col_indexer] = value instead\n",
      "\n",
      "See the caveats in the documentation: https://pandas.pydata.org/pandas-docs/stable/user_guide/indexing.html#returning-a-view-versus-a-copy\n",
      "  df_target['original_vido_id video_id frame_id path labels'] = df_target.apply(lambda x: ' '.join(x.astype(str)),axis=1)\n"
     ]
    },
    {
     "data": {
      "text/html": [
       "<div>\n",
       "<style scoped>\n",
       "    .dataframe tbody tr th:only-of-type {\n",
       "        vertical-align: middle;\n",
       "    }\n",
       "\n",
       "    .dataframe tbody tr th {\n",
       "        vertical-align: top;\n",
       "    }\n",
       "\n",
       "    .dataframe thead th {\n",
       "        text-align: right;\n",
       "    }\n",
       "</style>\n",
       "<table border=\"1\" class=\"dataframe\">\n",
       "  <thead>\n",
       "    <tr style=\"text-align: right;\">\n",
       "      <th></th>\n",
       "      <th>original_vido_id</th>\n",
       "      <th>video_id</th>\n",
       "      <th>frame_id</th>\n",
       "      <th>path</th>\n",
       "      <th>labels</th>\n",
       "      <th>original_vido_id video_id frame_id path labels</th>\n",
       "    </tr>\n",
       "  </thead>\n",
       "  <tbody>\n",
       "    <tr>\n",
       "      <th>3622050</th>\n",
       "      <td>_-Z6wFjXtGQ</td>\n",
       "      <td>134</td>\n",
       "      <td>0</td>\n",
       "      <td>_-Z6wFjXtGQ/_-Z6wFjXtGQ_000001.jpg</td>\n",
       "      <td>\"\"</td>\n",
       "      <td>_-Z6wFjXtGQ 134 0 _-Z6wFjXtGQ/_-Z6wFjXtGQ_000001.jpg \"\"</td>\n",
       "    </tr>\n",
       "    <tr>\n",
       "      <th>3622051</th>\n",
       "      <td>_-Z6wFjXtGQ</td>\n",
       "      <td>134</td>\n",
       "      <td>1</td>\n",
       "      <td>_-Z6wFjXtGQ/_-Z6wFjXtGQ_000002.jpg</td>\n",
       "      <td>\"\"</td>\n",
       "      <td>_-Z6wFjXtGQ 134 1 _-Z6wFjXtGQ/_-Z6wFjXtGQ_000002.jpg \"\"</td>\n",
       "    </tr>\n",
       "    <tr>\n",
       "      <th>3622052</th>\n",
       "      <td>_-Z6wFjXtGQ</td>\n",
       "      <td>134</td>\n",
       "      <td>2</td>\n",
       "      <td>_-Z6wFjXtGQ/_-Z6wFjXtGQ_000003.jpg</td>\n",
       "      <td>\"\"</td>\n",
       "      <td>_-Z6wFjXtGQ 134 2 _-Z6wFjXtGQ/_-Z6wFjXtGQ_000003.jpg \"\"</td>\n",
       "    </tr>\n",
       "    <tr>\n",
       "      <th>3622053</th>\n",
       "      <td>_-Z6wFjXtGQ</td>\n",
       "      <td>134</td>\n",
       "      <td>3</td>\n",
       "      <td>_-Z6wFjXtGQ/_-Z6wFjXtGQ_000004.jpg</td>\n",
       "      <td>\"\"</td>\n",
       "      <td>_-Z6wFjXtGQ 134 3 _-Z6wFjXtGQ/_-Z6wFjXtGQ_000004.jpg \"\"</td>\n",
       "    </tr>\n",
       "    <tr>\n",
       "      <th>3622054</th>\n",
       "      <td>_-Z6wFjXtGQ</td>\n",
       "      <td>134</td>\n",
       "      <td>4</td>\n",
       "      <td>_-Z6wFjXtGQ/_-Z6wFjXtGQ_000005.jpg</td>\n",
       "      <td>\"\"</td>\n",
       "      <td>_-Z6wFjXtGQ 134 4 _-Z6wFjXtGQ/_-Z6wFjXtGQ_000005.jpg \"\"</td>\n",
       "    </tr>\n",
       "  </tbody>\n",
       "</table>\n",
       "</div>"
      ],
      "text/plain": [
       "        original_vido_id video_id frame_id                                path labels           original_vido_id video_id frame_id path labels\n",
       "3622050  _-Z6wFjXtGQ      134      0        _-Z6wFjXtGQ/_-Z6wFjXtGQ_000001.jpg  \"\"     _-Z6wFjXtGQ 134 0 _-Z6wFjXtGQ/_-Z6wFjXtGQ_000001.jpg \"\"\n",
       "3622051  _-Z6wFjXtGQ      134      1        _-Z6wFjXtGQ/_-Z6wFjXtGQ_000002.jpg  \"\"     _-Z6wFjXtGQ 134 1 _-Z6wFjXtGQ/_-Z6wFjXtGQ_000002.jpg \"\"\n",
       "3622052  _-Z6wFjXtGQ      134      2        _-Z6wFjXtGQ/_-Z6wFjXtGQ_000003.jpg  \"\"     _-Z6wFjXtGQ 134 2 _-Z6wFjXtGQ/_-Z6wFjXtGQ_000003.jpg \"\"\n",
       "3622053  _-Z6wFjXtGQ      134      3        _-Z6wFjXtGQ/_-Z6wFjXtGQ_000004.jpg  \"\"     _-Z6wFjXtGQ 134 3 _-Z6wFjXtGQ/_-Z6wFjXtGQ_000004.jpg \"\"\n",
       "3622054  _-Z6wFjXtGQ      134      4        _-Z6wFjXtGQ/_-Z6wFjXtGQ_000005.jpg  \"\"     _-Z6wFjXtGQ 134 4 _-Z6wFjXtGQ/_-Z6wFjXtGQ_000005.jpg \"\""
      ]
     },
     "execution_count": 37,
     "metadata": {},
     "output_type": "execute_result"
    }
   ],
   "source": [
    "df_target['original_vido_id video_id frame_id path labels'] = df_target.apply(lambda x: ' '.join(x.astype(str)),axis=1)\n",
    "print(df_target.shape)\n",
    "df_target.head()"
   ]
  },
  {
   "cell_type": "code",
   "execution_count": 38,
   "metadata": {},
   "outputs": [
    {
     "name": "stdout",
     "output_type": "stream",
     "text": [
      "(108120, 1)\n"
     ]
    },
    {
     "name": "stderr",
     "output_type": "stream",
     "text": [
      "/Users/jessy/opt/anaconda3/envs/slowfast/lib/python3.9/site-packages/pandas-1.2.0rc0-py3.9-macosx-10.9-x86_64.egg/pandas/core/frame.py:4305: SettingWithCopyWarning: \n",
      "A value is trying to be set on a copy of a slice from a DataFrame\n",
      "\n",
      "See the caveats in the documentation: https://pandas.pydata.org/pandas-docs/stable/user_guide/indexing.html#returning-a-view-versus-a-copy\n",
      "  return super().drop(\n"
     ]
    },
    {
     "data": {
      "text/html": [
       "<div>\n",
       "<style scoped>\n",
       "    .dataframe tbody tr th:only-of-type {\n",
       "        vertical-align: middle;\n",
       "    }\n",
       "\n",
       "    .dataframe tbody tr th {\n",
       "        vertical-align: top;\n",
       "    }\n",
       "\n",
       "    .dataframe thead th {\n",
       "        text-align: right;\n",
       "    }\n",
       "</style>\n",
       "<table border=\"1\" class=\"dataframe\">\n",
       "  <thead>\n",
       "    <tr style=\"text-align: right;\">\n",
       "      <th></th>\n",
       "      <th>original_vido_id video_id frame_id path labels</th>\n",
       "    </tr>\n",
       "  </thead>\n",
       "  <tbody>\n",
       "    <tr>\n",
       "      <th>3622050</th>\n",
       "      <td>_-Z6wFjXtGQ 134 0 _-Z6wFjXtGQ/_-Z6wFjXtGQ_000001.jpg \"\"</td>\n",
       "    </tr>\n",
       "    <tr>\n",
       "      <th>3622051</th>\n",
       "      <td>_-Z6wFjXtGQ 134 1 _-Z6wFjXtGQ/_-Z6wFjXtGQ_000002.jpg \"\"</td>\n",
       "    </tr>\n",
       "    <tr>\n",
       "      <th>3622052</th>\n",
       "      <td>_-Z6wFjXtGQ 134 2 _-Z6wFjXtGQ/_-Z6wFjXtGQ_000003.jpg \"\"</td>\n",
       "    </tr>\n",
       "    <tr>\n",
       "      <th>3622053</th>\n",
       "      <td>_-Z6wFjXtGQ 134 3 _-Z6wFjXtGQ/_-Z6wFjXtGQ_000004.jpg \"\"</td>\n",
       "    </tr>\n",
       "    <tr>\n",
       "      <th>3622054</th>\n",
       "      <td>_-Z6wFjXtGQ 134 4 _-Z6wFjXtGQ/_-Z6wFjXtGQ_000005.jpg \"\"</td>\n",
       "    </tr>\n",
       "  </tbody>\n",
       "</table>\n",
       "</div>"
      ],
      "text/plain": [
       "                  original_vido_id video_id frame_id path labels\n",
       "3622050  _-Z6wFjXtGQ 134 0 _-Z6wFjXtGQ/_-Z6wFjXtGQ_000001.jpg \"\"\n",
       "3622051  _-Z6wFjXtGQ 134 1 _-Z6wFjXtGQ/_-Z6wFjXtGQ_000002.jpg \"\"\n",
       "3622052  _-Z6wFjXtGQ 134 2 _-Z6wFjXtGQ/_-Z6wFjXtGQ_000003.jpg \"\"\n",
       "3622053  _-Z6wFjXtGQ 134 3 _-Z6wFjXtGQ/_-Z6wFjXtGQ_000004.jpg \"\"\n",
       "3622054  _-Z6wFjXtGQ 134 4 _-Z6wFjXtGQ/_-Z6wFjXtGQ_000005.jpg \"\""
      ]
     },
     "execution_count": 38,
     "metadata": {},
     "output_type": "execute_result"
    }
   ],
   "source": [
    "df_target.drop(columns=['original_vido_id', 'video_id', 'path', 'labels', 'frame_id'], inplace=True)\n",
    "print(df_target.shape)\n",
    "df_target.head()"
   ]
  },
  {
   "cell_type": "code",
   "execution_count": 40,
   "metadata": {},
   "outputs": [],
   "source": [
    "df_target.to_csv('data/ava/frame_lists_new/train.csv')"
   ]
  },
  {
   "cell_type": "code",
   "execution_count": null,
   "metadata": {},
   "outputs": [],
   "source": []
  }
 ],
 "metadata": {
  "kernelspec": {
   "display_name": "slowfast",
   "language": "python",
   "name": "slowfast"
  },
  "language_info": {
   "codemirror_mode": {
    "name": "ipython",
    "version": 3
   },
   "file_extension": ".py",
   "mimetype": "text/x-python",
   "name": "python",
   "nbconvert_exporter": "python",
   "pygments_lexer": "ipython3",
   "version": "3.9.1"
  }
 },
 "nbformat": 4,
 "nbformat_minor": 4
}
